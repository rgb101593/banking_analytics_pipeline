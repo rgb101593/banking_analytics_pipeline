{
 "cells": [
  {
   "cell_type": "code",
   "execution_count": 1,
   "id": "b30bce1c",
   "metadata": {},
   "outputs": [
    {
     "name": "stderr",
     "output_type": "stream",
     "text": [
      "INFO:src.database.db_connection:Creating database engine for database=banking_analytics_db host=localhost port=5432 driver=postgresql+psycopg\n",
      "INFO:sql_analysis_notebook:Database engine acquired for SQL analysis.\n"
     ]
    },
    {
     "name": "stdout",
     "output_type": "stream",
     "text": [
      "✅ Environment initialized for SQL analysis.\n",
      "✅ Connected to database 'banking_analytics_db' as user 'bank_user'.\n"
     ]
    }
   ],
   "source": [
    "# --- Project Initialization and Environment Setup for SQL Analysis ---\n",
    "import sys\n",
    "import os\n",
    "from pathlib import Path\n",
    "\n",
    "# --- Add Project Root to sys.path ---\n",
    "project_root = Path.cwd().parent.resolve()\n",
    "project_root_str = str(project_root)\n",
    "if project_root_str not in sys.path:\n",
    "    sys.path.insert(0, project_root_str)\n",
    "\n",
    "# --- Core Imports ---\n",
    "import logging\n",
    "from pathlib import Path\n",
    "import pandas as pd\n",
    "import matplotlib.pyplot as plt\n",
    "import seaborn as sns\n",
    "from sqlalchemy import text\n",
    "\n",
    "# Project-specific import\n",
    "from src.database.db_connection import get_database_engine\n",
    "\n",
    "# --- Configuration and Logging ---\n",
    "logging.basicConfig(level=logging.INFO)\n",
    "logger = logging.getLogger(\"sql_analysis_notebook\")\n",
    "\n",
    "OUTPUT_DIR = Path(\"output\") # Relative to notebooks/\n",
    "OUTPUT_DIR.mkdir(exist_ok=True)\n",
    "\n",
    "print(\"✅ Environment initialized for SQL analysis.\")\n",
    "\n",
    "# --- Database Connection ---\n",
    "try:\n",
    "    engine = get_database_engine()\n",
    "    logger.info(\"Database engine acquired for SQL analysis.\")\n",
    "    with engine.connect() as conn:\n",
    "        result = conn.execute(text(\"SELECT current_database(), current_user;\"))\n",
    "        db_info_row = result.fetchone()\n",
    "        if db_info_row:\n",
    "            db_name, db_user = db_info_row\n",
    "            print(f\"✅ Connected to database '{db_name}' as user '{db_user}'.\")\n",
    "        else:\n",
    "            print(\"⚠️  Connected to database (info retrieval returned no rows).\")\n",
    "except Exception as e:\n",
    "    logger.error(f\"Database connection failed: {e}\", exc_info=True)\n",
    "    print(f\"❌ Error connecting to database: {e}\")\n",
    "    raise\n"
   ]
  },
  {
   "cell_type": "markdown",
   "id": "bc221210",
   "metadata": {},
   "source": [
    "# Advanced SQL Data Profiling & Analysis\n",
    "\n",
    "This notebook leverages advanced SQL queries to perform detailed profiling and analysis directly on the PostgreSQL database. This approach is efficient for large datasets and complements Python-based analysis.\n",
    "\n",
    "**Analysis Focus:**\n",
    "*   Detailed numerical profiling (percentiles, distribution)\n",
    "*   SQL-based outlier detection\n",
    "*   Categorical data distribution\n",
    "*   Time-series trends\n",
    "*   Basic correlations and data validation"
   ]
  },
  {
   "cell_type": "markdown",
   "id": "0941a5fa",
   "metadata": {},
   "source": [
    "## 1. Detailed Numerical Profiling\n",
    "\n",
    "Calculate detailed statistics for key numerical columns like `transactions.amount` and `accounts.balance`."
   ]
  },
  {
   "cell_type": "code",
   "execution_count": 2,
   "id": "5f9507d1",
   "metadata": {},
   "outputs": [
    {
     "name": "stdout",
     "output_type": "stream",
     "text": [
      "--- Profiling: transactions.amount ---\n",
      "Statistical Profile for 'transactions.amount':\n"
     ]
    },
    {
     "data": {
      "application/vnd.microsoft.datawrangler.viewer.v0+json": {
       "columns": [
        {
         "name": "index",
         "rawType": "int64",
         "type": "integer"
        },
        {
         "name": "count",
         "rawType": "int64",
         "type": "integer"
        },
        {
         "name": "mean",
         "rawType": "float64",
         "type": "float"
        },
        {
         "name": "stddev",
         "rawType": "float64",
         "type": "float"
        },
        {
         "name": "min",
         "rawType": "float64",
         "type": "float"
        },
        {
         "name": "max",
         "rawType": "float64",
         "type": "float"
        },
        {
         "name": "q1",
         "rawType": "float64",
         "type": "float"
        },
        {
         "name": "median",
         "rawType": "float64",
         "type": "float"
        },
        {
         "name": "q3",
         "rawType": "float64",
         "type": "float"
        }
       ],
       "ref": "6b350854-e2eb-4f10-baee-b1dce321eea3",
       "rows": [
        [
         "0",
         "4912",
         "564.1138395765456",
         "978.2792267633802",
         "3.99",
         "16211.03",
         "108.11250000000001",
         "271.235",
         "645.22"
        ]
       ],
       "shape": {
        "columns": 8,
        "rows": 1
       }
      },
      "text/html": [
       "<div>\n",
       "<style scoped>\n",
       "    .dataframe tbody tr th:only-of-type {\n",
       "        vertical-align: middle;\n",
       "    }\n",
       "\n",
       "    .dataframe tbody tr th {\n",
       "        vertical-align: top;\n",
       "    }\n",
       "\n",
       "    .dataframe thead th {\n",
       "        text-align: right;\n",
       "    }\n",
       "</style>\n",
       "<table border=\"1\" class=\"dataframe\">\n",
       "  <thead>\n",
       "    <tr style=\"text-align: right;\">\n",
       "      <th></th>\n",
       "      <th>count</th>\n",
       "      <th>mean</th>\n",
       "      <th>stddev</th>\n",
       "      <th>min</th>\n",
       "      <th>max</th>\n",
       "      <th>q1</th>\n",
       "      <th>median</th>\n",
       "      <th>q3</th>\n",
       "    </tr>\n",
       "  </thead>\n",
       "  <tbody>\n",
       "    <tr>\n",
       "      <th>0</th>\n",
       "      <td>4912</td>\n",
       "      <td>564.11384</td>\n",
       "      <td>978.279227</td>\n",
       "      <td>3.99</td>\n",
       "      <td>16211.03</td>\n",
       "      <td>108.1125</td>\n",
       "      <td>271.235</td>\n",
       "      <td>645.22</td>\n",
       "    </tr>\n",
       "  </tbody>\n",
       "</table>\n",
       "</div>"
      ],
      "text/plain": [
       "   count       mean      stddev   min       max        q1   median      q3\n",
       "0   4912  564.11384  978.279227  3.99  16211.03  108.1125  271.235  645.22"
      ]
     },
     "metadata": {},
     "output_type": "display_data"
    },
    {
     "name": "stdout",
     "output_type": "stream",
     "text": [
      "\n",
      "--------------------\n",
      "\n",
      "--- Profiling: accounts.balance ---\n",
      "Statistical Profile for 'accounts.balance':\n"
     ]
    },
    {
     "data": {
      "application/vnd.microsoft.datawrangler.viewer.v0+json": {
       "columns": [
        {
         "name": "index",
         "rawType": "int64",
         "type": "integer"
        },
        {
         "name": "count",
         "rawType": "int64",
         "type": "integer"
        },
        {
         "name": "mean",
         "rawType": "float64",
         "type": "float"
        },
        {
         "name": "stddev",
         "rawType": "float64",
         "type": "float"
        },
        {
         "name": "min",
         "rawType": "float64",
         "type": "float"
        },
        {
         "name": "max",
         "rawType": "float64",
         "type": "float"
        },
        {
         "name": "q1",
         "rawType": "float64",
         "type": "float"
        },
        {
         "name": "median",
         "rawType": "float64",
         "type": "float"
        },
        {
         "name": "q3",
         "rawType": "float64",
         "type": "float"
        }
       ],
       "ref": "52cc9f1e-d505-4d3a-92de-42edf7c3ef4f",
       "rows": [
        [
         "0",
         "627",
         "7118.250925039877",
         "8618.168187449053",
         "-7517.83",
         "63966.78",
         "1914.065",
         "4801.43",
         "9344.73"
        ]
       ],
       "shape": {
        "columns": 8,
        "rows": 1
       }
      },
      "text/html": [
       "<div>\n",
       "<style scoped>\n",
       "    .dataframe tbody tr th:only-of-type {\n",
       "        vertical-align: middle;\n",
       "    }\n",
       "\n",
       "    .dataframe tbody tr th {\n",
       "        vertical-align: top;\n",
       "    }\n",
       "\n",
       "    .dataframe thead th {\n",
       "        text-align: right;\n",
       "    }\n",
       "</style>\n",
       "<table border=\"1\" class=\"dataframe\">\n",
       "  <thead>\n",
       "    <tr style=\"text-align: right;\">\n",
       "      <th></th>\n",
       "      <th>count</th>\n",
       "      <th>mean</th>\n",
       "      <th>stddev</th>\n",
       "      <th>min</th>\n",
       "      <th>max</th>\n",
       "      <th>q1</th>\n",
       "      <th>median</th>\n",
       "      <th>q3</th>\n",
       "    </tr>\n",
       "  </thead>\n",
       "  <tbody>\n",
       "    <tr>\n",
       "      <th>0</th>\n",
       "      <td>627</td>\n",
       "      <td>7118.250925</td>\n",
       "      <td>8618.168187</td>\n",
       "      <td>-7517.83</td>\n",
       "      <td>63966.78</td>\n",
       "      <td>1914.065</td>\n",
       "      <td>4801.43</td>\n",
       "      <td>9344.73</td>\n",
       "    </tr>\n",
       "  </tbody>\n",
       "</table>\n",
       "</div>"
      ],
      "text/plain": [
       "   count         mean       stddev      min       max        q1   median  \\\n",
       "0    627  7118.250925  8618.168187 -7517.83  63966.78  1914.065  4801.43   \n",
       "\n",
       "        q3  \n",
       "0  9344.73  "
      ]
     },
     "metadata": {},
     "output_type": "display_data"
    }
   ],
   "source": [
    "# --- 1. Detailed Numerical Profiling ---\n",
    "\n",
    "# --- Profiling: transactions.amount ---\n",
    "print(\"--- Profiling: transactions.amount ---\")\n",
    "sql_amount_profile = \"\"\"\n",
    "SELECT\n",
    "    COUNT(amount) AS count,\n",
    "    AVG(amount) AS mean,\n",
    "    STDDEV(amount) AS stddev,\n",
    "    MIN(amount) AS min,\n",
    "    MAX(amount) AS max,\n",
    "    -- Calculate percentiles (approximate for large datasets)\n",
    "    PERCENTILE_CONT(0.25) WITHIN GROUP (ORDER BY amount) AS q1,\n",
    "    PERCENTILE_CONT(0.50) WITHIN GROUP (ORDER BY amount) AS median,\n",
    "    PERCENTILE_CONT(0.75) WITHIN GROUP (ORDER BY amount) AS q3\n",
    "FROM transactions;\n",
    "\"\"\"\n",
    "try:\n",
    "    df_amount_profile = pd.read_sql(text(sql_amount_profile), engine)\n",
    "    print(\"Statistical Profile for 'transactions.amount':\")\n",
    "    display(df_amount_profile)\n",
    "except Exception as e:\n",
    "    logger.error(f\"Error executing amount profile query: {e}\")\n",
    "    print(f\"❌ Error: {e}\")\n",
    "\n",
    "print(\"\\n\" + \"-\"*20 + \"\\n\")\n",
    "\n",
    "# --- Profiling: accounts.balance ---\n",
    "print(\"--- Profiling: accounts.balance ---\")\n",
    "sql_balance_profile = \"\"\"\n",
    "SELECT\n",
    "    COUNT(balance) AS count,\n",
    "    AVG(balance) AS mean,\n",
    "    STDDEV(balance) AS stddev,\n",
    "    MIN(balance) AS min,\n",
    "    MAX(balance) AS max,\n",
    "    PERCENTILE_CONT(0.25) WITHIN GROUP (ORDER BY balance) AS q1,\n",
    "    PERCENTILE_CONT(0.50) WITHIN GROUP (ORDER BY balance) AS median,\n",
    "    PERCENTILE_CONT(0.75) WITHIN GROUP (ORDER BY balance) AS q3\n",
    "FROM accounts;\n",
    "\"\"\"\n",
    "try:\n",
    "    df_balance_profile = pd.read_sql(text(sql_balance_profile), engine)\n",
    "    print(\"Statistical Profile for 'accounts.balance':\")\n",
    "    display(df_balance_profile)\n",
    "except Exception as e:\n",
    "    logger.error(f\"Error executing balance profile query: {e}\")\n",
    "    print(f\"❌ Error: {e}\")\n"
   ]
  },
  {
   "cell_type": "markdown",
   "id": "e4fa1280",
   "metadata": {},
   "source": [
    "## 2. SQL-Based Outlier Detection\n",
    "\n",
    "Identify potential outliers in `transactions.amount` using the Interquartile Range (IQR) method calculated within SQL."
   ]
  },
  {
   "cell_type": "code",
   "execution_count": 3,
   "id": "244ff00c",
   "metadata": {},
   "outputs": [
    {
     "name": "stdout",
     "output_type": "stream",
     "text": [
      "--- SQL-Based Outlier Detection (IQR) for transactions.amount ---\n",
      "Found 20 potential outliers (showing top 20):\n"
     ]
    },
    {
     "data": {
      "application/vnd.microsoft.datawrangler.viewer.v0+json": {
       "columns": [
        {
         "name": "index",
         "rawType": "int64",
         "type": "integer"
        },
        {
         "name": "transaction_id",
         "rawType": "object",
         "type": "string"
        },
        {
         "name": "account_id",
         "rawType": "object",
         "type": "string"
        },
        {
         "name": "amount",
         "rawType": "float64",
         "type": "float"
        },
        {
         "name": "transaction_type",
         "rawType": "object",
         "type": "string"
        },
        {
         "name": "lower_bound",
         "rawType": "float64",
         "type": "float"
        },
        {
         "name": "upper_bound",
         "rawType": "float64",
         "type": "float"
        }
       ],
       "ref": "a6624509-0f25-4da8-8b95-7b5af1d98eb7",
       "rows": [
        [
         "0",
         "TXN_0000070076",
         "ACC_0000587",
         "16211.03",
         "Deposit",
         "-697.5487500000002",
         "1450.8812500000001"
        ],
        [
         "1",
         "TXN_0000072401",
         "ACC_0000606",
         "15859.44",
         "Deposit",
         "-697.5487500000002",
         "1450.8812500000001"
        ],
        [
         "2",
         "TXN_0000074830",
         "ACC_0000627",
         "14855.27",
         "Deposit",
         "-697.5487500000002",
         "1450.8812500000001"
        ],
        [
         "3",
         "TXN_0000073731",
         "ACC_0000618",
         "13714.75",
         "Deposit",
         "-697.5487500000002",
         "1450.8812500000001"
        ],
        [
         "4",
         "TXN_0000072464",
         "ACC_0000607",
         "13239.46",
         "Deposit",
         "-697.5487500000002",
         "1450.8812500000001"
        ],
        [
         "5",
         "TXN_0000074041",
         "ACC_0000620",
         "12723.04",
         "Withdrawal",
         "-697.5487500000002",
         "1450.8812500000001"
        ],
        [
         "6",
         "TXN_0000071839",
         "ACC_0000602",
         "11018.3",
         "Deposit",
         "-697.5487500000002",
         "1450.8812500000001"
        ],
        [
         "7",
         "TXN_0000070449",
         "ACC_0000590",
         "10742.02",
         "Deposit",
         "-697.5487500000002",
         "1450.8812500000001"
        ],
        [
         "8",
         "TXN_0000071980",
         "ACC_0000603",
         "8812.34",
         "Withdrawal",
         "-697.5487500000002",
         "1450.8812500000001"
        ],
        [
         "9",
         "TXN_0000073096",
         "ACC_0000612",
         "8357.93",
         "Transfer_In",
         "-697.5487500000002",
         "1450.8812500000001"
        ],
        [
         "10",
         "TXN_0000070180",
         "ACC_0000588",
         "7909.09",
         "Transfer_In",
         "-697.5487500000002",
         "1450.8812500000001"
        ],
        [
         "11",
         "TXN_0000074586",
         "ACC_0000625",
         "7886.23",
         "Deposit",
         "-697.5487500000002",
         "1450.8812500000001"
        ],
        [
         "12",
         "TXN_0000073815",
         "ACC_0000618",
         "7817.4",
         "Withdrawal",
         "-697.5487500000002",
         "1450.8812500000001"
        ],
        [
         "13",
         "TXN_0000074069",
         "ACC_0000620",
         "7570.4",
         "Deposit",
         "-697.5487500000002",
         "1450.8812500000001"
        ],
        [
         "14",
         "TXN_0000072409",
         "ACC_0000606",
         "7114.05",
         "Transfer_In",
         "-697.5487500000002",
         "1450.8812500000001"
        ],
        [
         "15",
         "TXN_0000072415",
         "ACC_0000607",
         "7083.02",
         "Deposit",
         "-697.5487500000002",
         "1450.8812500000001"
        ],
        [
         "16",
         "TXN_0000072524",
         "ACC_0000607",
         "7079.89",
         "Deposit",
         "-697.5487500000002",
         "1450.8812500000001"
        ],
        [
         "17",
         "TXN_0000074656",
         "ACC_0000625",
         "6990.87",
         "Deposit",
         "-697.5487500000002",
         "1450.8812500000001"
        ],
        [
         "18",
         "TXN_0000072436",
         "ACC_0000607",
         "6825.27",
         "Transfer_Out",
         "-697.5487500000002",
         "1450.8812500000001"
        ],
        [
         "19",
         "TXN_0000072876",
         "ACC_0000610",
         "6808.99",
         "Transfer_In",
         "-697.5487500000002",
         "1450.8812500000001"
        ]
       ],
       "shape": {
        "columns": 6,
        "rows": 20
       }
      },
      "text/html": [
       "<div>\n",
       "<style scoped>\n",
       "    .dataframe tbody tr th:only-of-type {\n",
       "        vertical-align: middle;\n",
       "    }\n",
       "\n",
       "    .dataframe tbody tr th {\n",
       "        vertical-align: top;\n",
       "    }\n",
       "\n",
       "    .dataframe thead th {\n",
       "        text-align: right;\n",
       "    }\n",
       "</style>\n",
       "<table border=\"1\" class=\"dataframe\">\n",
       "  <thead>\n",
       "    <tr style=\"text-align: right;\">\n",
       "      <th></th>\n",
       "      <th>transaction_id</th>\n",
       "      <th>account_id</th>\n",
       "      <th>amount</th>\n",
       "      <th>transaction_type</th>\n",
       "      <th>lower_bound</th>\n",
       "      <th>upper_bound</th>\n",
       "    </tr>\n",
       "  </thead>\n",
       "  <tbody>\n",
       "    <tr>\n",
       "      <th>0</th>\n",
       "      <td>TXN_0000070076</td>\n",
       "      <td>ACC_0000587</td>\n",
       "      <td>16211.03</td>\n",
       "      <td>Deposit</td>\n",
       "      <td>-697.54875</td>\n",
       "      <td>1450.88125</td>\n",
       "    </tr>\n",
       "    <tr>\n",
       "      <th>1</th>\n",
       "      <td>TXN_0000072401</td>\n",
       "      <td>ACC_0000606</td>\n",
       "      <td>15859.44</td>\n",
       "      <td>Deposit</td>\n",
       "      <td>-697.54875</td>\n",
       "      <td>1450.88125</td>\n",
       "    </tr>\n",
       "    <tr>\n",
       "      <th>2</th>\n",
       "      <td>TXN_0000074830</td>\n",
       "      <td>ACC_0000627</td>\n",
       "      <td>14855.27</td>\n",
       "      <td>Deposit</td>\n",
       "      <td>-697.54875</td>\n",
       "      <td>1450.88125</td>\n",
       "    </tr>\n",
       "    <tr>\n",
       "      <th>3</th>\n",
       "      <td>TXN_0000073731</td>\n",
       "      <td>ACC_0000618</td>\n",
       "      <td>13714.75</td>\n",
       "      <td>Deposit</td>\n",
       "      <td>-697.54875</td>\n",
       "      <td>1450.88125</td>\n",
       "    </tr>\n",
       "    <tr>\n",
       "      <th>4</th>\n",
       "      <td>TXN_0000072464</td>\n",
       "      <td>ACC_0000607</td>\n",
       "      <td>13239.46</td>\n",
       "      <td>Deposit</td>\n",
       "      <td>-697.54875</td>\n",
       "      <td>1450.88125</td>\n",
       "    </tr>\n",
       "    <tr>\n",
       "      <th>5</th>\n",
       "      <td>TXN_0000074041</td>\n",
       "      <td>ACC_0000620</td>\n",
       "      <td>12723.04</td>\n",
       "      <td>Withdrawal</td>\n",
       "      <td>-697.54875</td>\n",
       "      <td>1450.88125</td>\n",
       "    </tr>\n",
       "    <tr>\n",
       "      <th>6</th>\n",
       "      <td>TXN_0000071839</td>\n",
       "      <td>ACC_0000602</td>\n",
       "      <td>11018.30</td>\n",
       "      <td>Deposit</td>\n",
       "      <td>-697.54875</td>\n",
       "      <td>1450.88125</td>\n",
       "    </tr>\n",
       "    <tr>\n",
       "      <th>7</th>\n",
       "      <td>TXN_0000070449</td>\n",
       "      <td>ACC_0000590</td>\n",
       "      <td>10742.02</td>\n",
       "      <td>Deposit</td>\n",
       "      <td>-697.54875</td>\n",
       "      <td>1450.88125</td>\n",
       "    </tr>\n",
       "    <tr>\n",
       "      <th>8</th>\n",
       "      <td>TXN_0000071980</td>\n",
       "      <td>ACC_0000603</td>\n",
       "      <td>8812.34</td>\n",
       "      <td>Withdrawal</td>\n",
       "      <td>-697.54875</td>\n",
       "      <td>1450.88125</td>\n",
       "    </tr>\n",
       "    <tr>\n",
       "      <th>9</th>\n",
       "      <td>TXN_0000073096</td>\n",
       "      <td>ACC_0000612</td>\n",
       "      <td>8357.93</td>\n",
       "      <td>Transfer_In</td>\n",
       "      <td>-697.54875</td>\n",
       "      <td>1450.88125</td>\n",
       "    </tr>\n",
       "    <tr>\n",
       "      <th>10</th>\n",
       "      <td>TXN_0000070180</td>\n",
       "      <td>ACC_0000588</td>\n",
       "      <td>7909.09</td>\n",
       "      <td>Transfer_In</td>\n",
       "      <td>-697.54875</td>\n",
       "      <td>1450.88125</td>\n",
       "    </tr>\n",
       "    <tr>\n",
       "      <th>11</th>\n",
       "      <td>TXN_0000074586</td>\n",
       "      <td>ACC_0000625</td>\n",
       "      <td>7886.23</td>\n",
       "      <td>Deposit</td>\n",
       "      <td>-697.54875</td>\n",
       "      <td>1450.88125</td>\n",
       "    </tr>\n",
       "    <tr>\n",
       "      <th>12</th>\n",
       "      <td>TXN_0000073815</td>\n",
       "      <td>ACC_0000618</td>\n",
       "      <td>7817.40</td>\n",
       "      <td>Withdrawal</td>\n",
       "      <td>-697.54875</td>\n",
       "      <td>1450.88125</td>\n",
       "    </tr>\n",
       "    <tr>\n",
       "      <th>13</th>\n",
       "      <td>TXN_0000074069</td>\n",
       "      <td>ACC_0000620</td>\n",
       "      <td>7570.40</td>\n",
       "      <td>Deposit</td>\n",
       "      <td>-697.54875</td>\n",
       "      <td>1450.88125</td>\n",
       "    </tr>\n",
       "    <tr>\n",
       "      <th>14</th>\n",
       "      <td>TXN_0000072409</td>\n",
       "      <td>ACC_0000606</td>\n",
       "      <td>7114.05</td>\n",
       "      <td>Transfer_In</td>\n",
       "      <td>-697.54875</td>\n",
       "      <td>1450.88125</td>\n",
       "    </tr>\n",
       "    <tr>\n",
       "      <th>15</th>\n",
       "      <td>TXN_0000072415</td>\n",
       "      <td>ACC_0000607</td>\n",
       "      <td>7083.02</td>\n",
       "      <td>Deposit</td>\n",
       "      <td>-697.54875</td>\n",
       "      <td>1450.88125</td>\n",
       "    </tr>\n",
       "    <tr>\n",
       "      <th>16</th>\n",
       "      <td>TXN_0000072524</td>\n",
       "      <td>ACC_0000607</td>\n",
       "      <td>7079.89</td>\n",
       "      <td>Deposit</td>\n",
       "      <td>-697.54875</td>\n",
       "      <td>1450.88125</td>\n",
       "    </tr>\n",
       "    <tr>\n",
       "      <th>17</th>\n",
       "      <td>TXN_0000074656</td>\n",
       "      <td>ACC_0000625</td>\n",
       "      <td>6990.87</td>\n",
       "      <td>Deposit</td>\n",
       "      <td>-697.54875</td>\n",
       "      <td>1450.88125</td>\n",
       "    </tr>\n",
       "    <tr>\n",
       "      <th>18</th>\n",
       "      <td>TXN_0000072436</td>\n",
       "      <td>ACC_0000607</td>\n",
       "      <td>6825.27</td>\n",
       "      <td>Transfer_Out</td>\n",
       "      <td>-697.54875</td>\n",
       "      <td>1450.88125</td>\n",
       "    </tr>\n",
       "    <tr>\n",
       "      <th>19</th>\n",
       "      <td>TXN_0000072876</td>\n",
       "      <td>ACC_0000610</td>\n",
       "      <td>6808.99</td>\n",
       "      <td>Transfer_In</td>\n",
       "      <td>-697.54875</td>\n",
       "      <td>1450.88125</td>\n",
       "    </tr>\n",
       "  </tbody>\n",
       "</table>\n",
       "</div>"
      ],
      "text/plain": [
       "    transaction_id   account_id    amount transaction_type  lower_bound  \\\n",
       "0   TXN_0000070076  ACC_0000587  16211.03          Deposit   -697.54875   \n",
       "1   TXN_0000072401  ACC_0000606  15859.44          Deposit   -697.54875   \n",
       "2   TXN_0000074830  ACC_0000627  14855.27          Deposit   -697.54875   \n",
       "3   TXN_0000073731  ACC_0000618  13714.75          Deposit   -697.54875   \n",
       "4   TXN_0000072464  ACC_0000607  13239.46          Deposit   -697.54875   \n",
       "5   TXN_0000074041  ACC_0000620  12723.04       Withdrawal   -697.54875   \n",
       "6   TXN_0000071839  ACC_0000602  11018.30          Deposit   -697.54875   \n",
       "7   TXN_0000070449  ACC_0000590  10742.02          Deposit   -697.54875   \n",
       "8   TXN_0000071980  ACC_0000603   8812.34       Withdrawal   -697.54875   \n",
       "9   TXN_0000073096  ACC_0000612   8357.93      Transfer_In   -697.54875   \n",
       "10  TXN_0000070180  ACC_0000588   7909.09      Transfer_In   -697.54875   \n",
       "11  TXN_0000074586  ACC_0000625   7886.23          Deposit   -697.54875   \n",
       "12  TXN_0000073815  ACC_0000618   7817.40       Withdrawal   -697.54875   \n",
       "13  TXN_0000074069  ACC_0000620   7570.40          Deposit   -697.54875   \n",
       "14  TXN_0000072409  ACC_0000606   7114.05      Transfer_In   -697.54875   \n",
       "15  TXN_0000072415  ACC_0000607   7083.02          Deposit   -697.54875   \n",
       "16  TXN_0000072524  ACC_0000607   7079.89          Deposit   -697.54875   \n",
       "17  TXN_0000074656  ACC_0000625   6990.87          Deposit   -697.54875   \n",
       "18  TXN_0000072436  ACC_0000607   6825.27     Transfer_Out   -697.54875   \n",
       "19  TXN_0000072876  ACC_0000610   6808.99      Transfer_In   -697.54875   \n",
       "\n",
       "    upper_bound  \n",
       "0    1450.88125  \n",
       "1    1450.88125  \n",
       "2    1450.88125  \n",
       "3    1450.88125  \n",
       "4    1450.88125  \n",
       "5    1450.88125  \n",
       "6    1450.88125  \n",
       "7    1450.88125  \n",
       "8    1450.88125  \n",
       "9    1450.88125  \n",
       "10   1450.88125  \n",
       "11   1450.88125  \n",
       "12   1450.88125  \n",
       "13   1450.88125  \n",
       "14   1450.88125  \n",
       "15   1450.88125  \n",
       "16   1450.88125  \n",
       "17   1450.88125  \n",
       "18   1450.88125  \n",
       "19   1450.88125  "
      ]
     },
     "metadata": {},
     "output_type": "display_data"
    },
    {
     "name": "stdout",
     "output_type": "stream",
     "text": [
      "\n",
      "Total Outliers (based on IQR): 20\n"
     ]
    }
   ],
   "source": [
    "# --- 2. SQL-Based Outlier Detection (IQR Method) ---\n",
    "print(\"--- SQL-Based Outlier Detection (IQR) for transactions.amount ---\")\n",
    "\n",
    "# Calculate IQR bounds and identify outliers in a single query\n",
    "sql_outliers = \"\"\"\n",
    "WITH quartiles AS (\n",
    "    SELECT\n",
    "        PERCENTILE_CONT(0.25) WITHIN GROUP (ORDER BY amount) AS q1,\n",
    "        PERCENTILE_CONT(0.75) WITHIN GROUP (ORDER BY amount) AS q3\n",
    "    FROM transactions\n",
    "),\n",
    "iqr_bounds AS (\n",
    "    SELECT\n",
    "        q1,\n",
    "        q3,\n",
    "        (q3 - q1) AS iqr,\n",
    "        (q1 - 1.5 * (q3 - q1)) AS lower_bound,\n",
    "        (q3 + 1.5 * (q3 - q1)) AS upper_bound\n",
    "    FROM quartiles\n",
    ")\n",
    "SELECT\n",
    "    t.transaction_id,\n",
    "    t.account_id,\n",
    "    t.amount,\n",
    "    t.transaction_type,\n",
    "    i.lower_bound,\n",
    "    i.upper_bound\n",
    "FROM transactions t\n",
    "CROSS JOIN iqr_bounds i\n",
    "WHERE t.amount < i.lower_bound OR t.amount > i.upper_bound\n",
    "ORDER BY t.amount DESC\n",
    "LIMIT 20; -- Show top 20 potential outliers\n",
    "\"\"\"\n",
    "try:\n",
    "    df_sql_outliers = pd.read_sql(text(sql_outliers), engine)\n",
    "    print(f\"Found {len(df_sql_outliers)} potential outliers (showing top 20):\")\n",
    "    display(df_sql_outliers)\n",
    "    print(f\"\\nTotal Outliers (based on IQR): {len(df_sql_outliers)}\")\n",
    "except Exception as e:\n",
    "    logger.error(f\"Error executing SQL outlier detection query: {e}\")\n",
    "    print(f\"❌ Error: {e}\")\n"
   ]
  },
  {
   "cell_type": "markdown",
   "id": "0cc3d874",
   "metadata": {},
   "source": [
    "## 3. Categorical Data Distribution\n",
    "\n",
    "Analyze the distribution of categorical variables like `transaction_type`, `account_type`, and `region`."
   ]
  },
  {
   "cell_type": "code",
   "execution_count": 4,
   "id": "c631f578",
   "metadata": {},
   "outputs": [
    {
     "name": "stdout",
     "output_type": "stream",
     "text": [
      "--- Categorical Data Distribution ---\n",
      "\n",
      "--- Distribution: transaction_type ---\n",
      "Transaction Type Distribution:\n"
     ]
    },
    {
     "data": {
      "application/vnd.microsoft.datawrangler.viewer.v0+json": {
       "columns": [
        {
         "name": "index",
         "rawType": "int64",
         "type": "integer"
        },
        {
         "name": "transaction_type",
         "rawType": "object",
         "type": "string"
        },
        {
         "name": "count",
         "rawType": "int64",
         "type": "integer"
        }
       ],
       "ref": "b0a738dd-8a05-49d0-bc41-6f70a4640cca",
       "rows": [
        [
         "0",
         "Payment",
         "1333"
        ],
        [
         "1",
         "Deposit",
         "1315"
        ],
        [
         "2",
         "Withdrawal",
         "1137"
        ],
        [
         "3",
         "Transfer_In",
         "566"
        ],
        [
         "4",
         "Transfer_Out",
         "561"
        ]
       ],
       "shape": {
        "columns": 2,
        "rows": 5
       }
      },
      "text/html": [
       "<div>\n",
       "<style scoped>\n",
       "    .dataframe tbody tr th:only-of-type {\n",
       "        vertical-align: middle;\n",
       "    }\n",
       "\n",
       "    .dataframe tbody tr th {\n",
       "        vertical-align: top;\n",
       "    }\n",
       "\n",
       "    .dataframe thead th {\n",
       "        text-align: right;\n",
       "    }\n",
       "</style>\n",
       "<table border=\"1\" class=\"dataframe\">\n",
       "  <thead>\n",
       "    <tr style=\"text-align: right;\">\n",
       "      <th></th>\n",
       "      <th>transaction_type</th>\n",
       "      <th>count</th>\n",
       "    </tr>\n",
       "  </thead>\n",
       "  <tbody>\n",
       "    <tr>\n",
       "      <th>0</th>\n",
       "      <td>Payment</td>\n",
       "      <td>1333</td>\n",
       "    </tr>\n",
       "    <tr>\n",
       "      <th>1</th>\n",
       "      <td>Deposit</td>\n",
       "      <td>1315</td>\n",
       "    </tr>\n",
       "    <tr>\n",
       "      <th>2</th>\n",
       "      <td>Withdrawal</td>\n",
       "      <td>1137</td>\n",
       "    </tr>\n",
       "    <tr>\n",
       "      <th>3</th>\n",
       "      <td>Transfer_In</td>\n",
       "      <td>566</td>\n",
       "    </tr>\n",
       "    <tr>\n",
       "      <th>4</th>\n",
       "      <td>Transfer_Out</td>\n",
       "      <td>561</td>\n",
       "    </tr>\n",
       "  </tbody>\n",
       "</table>\n",
       "</div>"
      ],
      "text/plain": [
       "  transaction_type  count\n",
       "0          Payment   1333\n",
       "1          Deposit   1315\n",
       "2       Withdrawal   1137\n",
       "3      Transfer_In    566\n",
       "4     Transfer_Out    561"
      ]
     },
     "metadata": {},
     "output_type": "display_data"
    },
    {
     "name": "stdout",
     "output_type": "stream",
     "text": [
      "\n",
      "--- Distribution: account_type ---\n",
      "Account Type Distribution:\n"
     ]
    },
    {
     "data": {
      "application/vnd.microsoft.datawrangler.viewer.v0+json": {
       "columns": [
        {
         "name": "index",
         "rawType": "int64",
         "type": "integer"
        },
        {
         "name": "account_type",
         "rawType": "object",
         "type": "string"
        },
        {
         "name": "count",
         "rawType": "int64",
         "type": "integer"
        }
       ],
       "ref": "005ea325-13de-4723-9130-95bee6df401e",
       "rows": [
        [
         "0",
         "Savings",
         "321"
        ],
        [
         "1",
         "Checking",
         "247"
        ],
        [
         "2",
         "Credit",
         "59"
        ]
       ],
       "shape": {
        "columns": 2,
        "rows": 3
       }
      },
      "text/html": [
       "<div>\n",
       "<style scoped>\n",
       "    .dataframe tbody tr th:only-of-type {\n",
       "        vertical-align: middle;\n",
       "    }\n",
       "\n",
       "    .dataframe tbody tr th {\n",
       "        vertical-align: top;\n",
       "    }\n",
       "\n",
       "    .dataframe thead th {\n",
       "        text-align: right;\n",
       "    }\n",
       "</style>\n",
       "<table border=\"1\" class=\"dataframe\">\n",
       "  <thead>\n",
       "    <tr style=\"text-align: right;\">\n",
       "      <th></th>\n",
       "      <th>account_type</th>\n",
       "      <th>count</th>\n",
       "    </tr>\n",
       "  </thead>\n",
       "  <tbody>\n",
       "    <tr>\n",
       "      <th>0</th>\n",
       "      <td>Savings</td>\n",
       "      <td>321</td>\n",
       "    </tr>\n",
       "    <tr>\n",
       "      <th>1</th>\n",
       "      <td>Checking</td>\n",
       "      <td>247</td>\n",
       "    </tr>\n",
       "    <tr>\n",
       "      <th>2</th>\n",
       "      <td>Credit</td>\n",
       "      <td>59</td>\n",
       "    </tr>\n",
       "  </tbody>\n",
       "</table>\n",
       "</div>"
      ],
      "text/plain": [
       "  account_type  count\n",
       "0      Savings    321\n",
       "1     Checking    247\n",
       "2       Credit     59"
      ]
     },
     "metadata": {},
     "output_type": "display_data"
    },
    {
     "name": "stdout",
     "output_type": "stream",
     "text": [
      "\n",
      "--- Distribution: region (from customers) ---\n",
      "Customer Region Distribution:\n"
     ]
    },
    {
     "data": {
      "application/vnd.microsoft.datawrangler.viewer.v0+json": {
       "columns": [
        {
         "name": "index",
         "rawType": "int64",
         "type": "integer"
        },
        {
         "name": "region",
         "rawType": "object",
         "type": "string"
        },
        {
         "name": "customer_count",
         "rawType": "int64",
         "type": "integer"
        }
       ],
       "ref": "b3aa9c6c-eb8f-4a8d-a197-2985e0736112",
       "rows": [
        [
         "0",
         "Qatar_East",
         "116"
        ],
        [
         "1",
         "Doha_Central",
         "103"
        ],
        [
         "2",
         "Qatar_West",
         "94"
        ],
        [
         "3",
         "Qatar_South",
         "94"
        ],
        [
         "4",
         "Qatar_North",
         "93"
        ]
       ],
       "shape": {
        "columns": 2,
        "rows": 5
       }
      },
      "text/html": [
       "<div>\n",
       "<style scoped>\n",
       "    .dataframe tbody tr th:only-of-type {\n",
       "        vertical-align: middle;\n",
       "    }\n",
       "\n",
       "    .dataframe tbody tr th {\n",
       "        vertical-align: top;\n",
       "    }\n",
       "\n",
       "    .dataframe thead th {\n",
       "        text-align: right;\n",
       "    }\n",
       "</style>\n",
       "<table border=\"1\" class=\"dataframe\">\n",
       "  <thead>\n",
       "    <tr style=\"text-align: right;\">\n",
       "      <th></th>\n",
       "      <th>region</th>\n",
       "      <th>customer_count</th>\n",
       "    </tr>\n",
       "  </thead>\n",
       "  <tbody>\n",
       "    <tr>\n",
       "      <th>0</th>\n",
       "      <td>Qatar_East</td>\n",
       "      <td>116</td>\n",
       "    </tr>\n",
       "    <tr>\n",
       "      <th>1</th>\n",
       "      <td>Doha_Central</td>\n",
       "      <td>103</td>\n",
       "    </tr>\n",
       "    <tr>\n",
       "      <th>2</th>\n",
       "      <td>Qatar_West</td>\n",
       "      <td>94</td>\n",
       "    </tr>\n",
       "    <tr>\n",
       "      <th>3</th>\n",
       "      <td>Qatar_South</td>\n",
       "      <td>94</td>\n",
       "    </tr>\n",
       "    <tr>\n",
       "      <th>4</th>\n",
       "      <td>Qatar_North</td>\n",
       "      <td>93</td>\n",
       "    </tr>\n",
       "  </tbody>\n",
       "</table>\n",
       "</div>"
      ],
      "text/plain": [
       "         region  customer_count\n",
       "0    Qatar_East             116\n",
       "1  Doha_Central             103\n",
       "2    Qatar_West              94\n",
       "3   Qatar_South              94\n",
       "4   Qatar_North              93"
      ]
     },
     "metadata": {},
     "output_type": "display_data"
    }
   ],
   "source": [
    "# --- 3. Categorical Data Distribution ---\n",
    "print(\"--- Categorical Data Distribution ---\")\n",
    "\n",
    "# --- Distribution: transaction_type ---\n",
    "print(\"\\n--- Distribution: transaction_type ---\")\n",
    "sql_txn_type_dist = \"\"\"\n",
    "SELECT transaction_type, COUNT(*) AS count\n",
    "FROM transactions\n",
    "GROUP BY transaction_type\n",
    "ORDER BY count DESC;\n",
    "\"\"\"\n",
    "try:\n",
    "    df_txn_type_dist = pd.read_sql(text(sql_txn_type_dist), engine)\n",
    "    print(\"Transaction Type Distribution:\")\n",
    "    display(df_txn_type_dist)\n",
    "except Exception as e:\n",
    "    logger.error(f\"Error executing transaction type distribution query: {e}\")\n",
    "    print(f\"❌ Error: {e}\")\n",
    "\n",
    "# --- Distribution: account_type ---\n",
    "print(\"\\n--- Distribution: account_type ---\")\n",
    "sql_acc_type_dist = \"\"\"\n",
    "SELECT account_type, COUNT(*) AS count\n",
    "FROM accounts\n",
    "GROUP BY account_type\n",
    "ORDER BY count DESC;\n",
    "\"\"\"\n",
    "try:\n",
    "    df_acc_type_dist = pd.read_sql(text(sql_acc_type_dist), engine)\n",
    "    print(\"Account Type Distribution:\")\n",
    "    display(df_acc_type_dist)\n",
    "except Exception as e:\n",
    "    logger.error(f\"Error executing account type distribution query: {e}\")\n",
    "    print(f\"❌ Error: {e}\")\n",
    "\n",
    "# --- Distribution: region ---\n",
    "print(\"\\n--- Distribution: region (from customers) ---\")\n",
    "sql_region_dist = \"\"\"\n",
    "SELECT region, COUNT(*) AS customer_count\n",
    "FROM customers\n",
    "GROUP BY region\n",
    "ORDER BY customer_count DESC;\n",
    "\"\"\"\n",
    "try:\n",
    "    df_region_dist = pd.read_sql(text(sql_region_dist), engine)\n",
    "    print(\"Customer Region Distribution:\")\n",
    "    display(df_region_dist)\n",
    "except Exception as e:\n",
    "    logger.error(f\"Error executing region distribution query: {e}\")\n",
    "    print(f\"❌ Error: {e}\")\n"
   ]
  },
  {
   "cell_type": "markdown",
   "id": "c30bd013",
   "metadata": {},
   "source": [
    "## 4. Time-Series Analysis\n",
    "\n",
    "Examine transaction trends over time (e.g., monthly counts, average amounts)."
   ]
  },
  {
   "cell_type": "code",
   "execution_count": 5,
   "id": "ae6f61ca",
   "metadata": {},
   "outputs": [
    {
     "name": "stdout",
     "output_type": "stream",
     "text": [
      "--- Time-Series Analysis ---\n",
      "\n",
      "--- Transactions per Month ---\n",
      "Monthly Transaction Counts and Average Amounts:\n"
     ]
    },
    {
     "data": {
      "application/vnd.microsoft.datawrangler.viewer.v0+json": {
       "columns": [
        {
         "name": "index",
         "rawType": "int64",
         "type": "integer"
        },
        {
         "name": "month",
         "rawType": "datetime64[ns]",
         "type": "datetime"
        },
        {
         "name": "transaction_count",
         "rawType": "int64",
         "type": "integer"
        },
        {
         "name": "avg_amount",
         "rawType": "float64",
         "type": "float"
        }
       ],
       "ref": "dcba1f18-d8c0-4aec-bb71-39d13e1a1d9c",
       "rows": [
        [
         "0",
         "2024-08-01 00:00:00",
         "167",
         "565.0691017964073"
        ],
        [
         "1",
         "2024-09-01 00:00:00",
         "426",
         "585.4765023474181"
        ],
        [
         "2",
         "2024-10-01 00:00:00",
         "446",
         "588.0745515695066"
        ],
        [
         "3",
         "2024-11-01 00:00:00",
         "412",
         "570.4341019417482"
        ],
        [
         "4",
         "2024-12-01 00:00:00",
         "447",
         "600.0677628635347"
        ],
        [
         "5",
         "2025-01-01 00:00:00",
         "421",
         "539.6647030878858"
        ],
        [
         "6",
         "2025-02-01 00:00:00",
         "405",
         "509.03382716049424"
        ],
        [
         "7",
         "2025-03-01 00:00:00",
         "398",
         "663.8548994974868"
        ],
        [
         "8",
         "2025-04-01 00:00:00",
         "391",
         "539.3727109974423"
        ],
        [
         "9",
         "2025-05-01 00:00:00",
         "403",
         "473.4793796526052"
        ]
       ],
       "shape": {
        "columns": 3,
        "rows": 10
       }
      },
      "text/html": [
       "<div>\n",
       "<style scoped>\n",
       "    .dataframe tbody tr th:only-of-type {\n",
       "        vertical-align: middle;\n",
       "    }\n",
       "\n",
       "    .dataframe tbody tr th {\n",
       "        vertical-align: top;\n",
       "    }\n",
       "\n",
       "    .dataframe thead th {\n",
       "        text-align: right;\n",
       "    }\n",
       "</style>\n",
       "<table border=\"1\" class=\"dataframe\">\n",
       "  <thead>\n",
       "    <tr style=\"text-align: right;\">\n",
       "      <th></th>\n",
       "      <th>month</th>\n",
       "      <th>transaction_count</th>\n",
       "      <th>avg_amount</th>\n",
       "    </tr>\n",
       "  </thead>\n",
       "  <tbody>\n",
       "    <tr>\n",
       "      <th>0</th>\n",
       "      <td>2024-08-01</td>\n",
       "      <td>167</td>\n",
       "      <td>565.069102</td>\n",
       "    </tr>\n",
       "    <tr>\n",
       "      <th>1</th>\n",
       "      <td>2024-09-01</td>\n",
       "      <td>426</td>\n",
       "      <td>585.476502</td>\n",
       "    </tr>\n",
       "    <tr>\n",
       "      <th>2</th>\n",
       "      <td>2024-10-01</td>\n",
       "      <td>446</td>\n",
       "      <td>588.074552</td>\n",
       "    </tr>\n",
       "    <tr>\n",
       "      <th>3</th>\n",
       "      <td>2024-11-01</td>\n",
       "      <td>412</td>\n",
       "      <td>570.434102</td>\n",
       "    </tr>\n",
       "    <tr>\n",
       "      <th>4</th>\n",
       "      <td>2024-12-01</td>\n",
       "      <td>447</td>\n",
       "      <td>600.067763</td>\n",
       "    </tr>\n",
       "    <tr>\n",
       "      <th>5</th>\n",
       "      <td>2025-01-01</td>\n",
       "      <td>421</td>\n",
       "      <td>539.664703</td>\n",
       "    </tr>\n",
       "    <tr>\n",
       "      <th>6</th>\n",
       "      <td>2025-02-01</td>\n",
       "      <td>405</td>\n",
       "      <td>509.033827</td>\n",
       "    </tr>\n",
       "    <tr>\n",
       "      <th>7</th>\n",
       "      <td>2025-03-01</td>\n",
       "      <td>398</td>\n",
       "      <td>663.854899</td>\n",
       "    </tr>\n",
       "    <tr>\n",
       "      <th>8</th>\n",
       "      <td>2025-04-01</td>\n",
       "      <td>391</td>\n",
       "      <td>539.372711</td>\n",
       "    </tr>\n",
       "    <tr>\n",
       "      <th>9</th>\n",
       "      <td>2025-05-01</td>\n",
       "      <td>403</td>\n",
       "      <td>473.479380</td>\n",
       "    </tr>\n",
       "  </tbody>\n",
       "</table>\n",
       "</div>"
      ],
      "text/plain": [
       "       month  transaction_count  avg_amount\n",
       "0 2024-08-01                167  565.069102\n",
       "1 2024-09-01                426  585.476502\n",
       "2 2024-10-01                446  588.074552\n",
       "3 2024-11-01                412  570.434102\n",
       "4 2024-12-01                447  600.067763\n",
       "5 2025-01-01                421  539.664703\n",
       "6 2025-02-01                405  509.033827\n",
       "7 2025-03-01                398  663.854899\n",
       "8 2025-04-01                391  539.372711\n",
       "9 2025-05-01                403  473.479380"
      ]
     },
     "metadata": {},
     "output_type": "display_data"
    }
   ],
   "source": [
    "# --- 4. Time-Series Analysis ---\n",
    "print(\"--- Time-Series Analysis ---\")\n",
    "\n",
    "# --- Transactions per Month ---\n",
    "print(\"\\n--- Transactions per Month ---\")\n",
    "sql_txn_per_month = \"\"\"\n",
    "SELECT\n",
    "    DATE_TRUNC('month', transaction_date) AS month,\n",
    "    COUNT(*) AS transaction_count,\n",
    "    AVG(amount) AS avg_amount\n",
    "FROM transactions\n",
    "GROUP BY DATE_TRUNC('month', transaction_date)\n",
    "ORDER BY month;\n",
    "\"\"\"\n",
    "try:\n",
    "    df_txn_per_month = pd.read_sql(text(sql_txn_per_month), engine)\n",
    "    # Convert month to datetime for easier handling if needed\n",
    "    df_txn_per_month['month'] = pd.to_datetime(df_txn_per_month['month'])\n",
    "    print(\"Monthly Transaction Counts and Average Amounts:\")\n",
    "    display(df_txn_per_month.head(10)) # Show first 10 months\n",
    "\n",
    "    # Optional: Plot within notebook (basic example)\n",
    "    # import matplotlib.pyplot as plt\n",
    "    # fig, ax1 = plt.subplots(figsize=(10, 5))\n",
    "    # ax1.set_xlabel('Month')\n",
    "    # ax1.set_ylabel('Transaction Count', color='tab:blue')\n",
    "    # ax1.plot(df_txn_per_month['month'], df_txn_per_month['transaction_count'], color='tab:blue', marker='o')\n",
    "    # ax1.tick_params(axis='y', labelcolor='tab:blue')\n",
    "    # ax2 = ax1.twinx()\n",
    "    # ax2.set_ylabel('Average Amount', color='tab:red')\n",
    "    # ax2.plot(df_txn_per_month['month'], df_txn_per_month['avg_amount'], color='tab:red', marker='x')\n",
    "    # ax2.tick_params(axis='y', labelcolor='tab:red')\n",
    "    # fig.tight_layout()\n",
    "    # plt.title('Transactions per Month & Average Amount')\n",
    "    # plt.show()\n",
    "\n",
    "except Exception as e:\n",
    "    logger.error(f\"Error executing time-series analysis query: {e}\")\n",
    "    print(f\"❌ Error: {e}\")\n"
   ]
  },
  {
   "cell_type": "markdown",
   "id": "270584ad",
   "metadata": {},
   "source": [
    "## 5. Correlation Analysis & Data Validation\n",
    "\n",
    "Explore potential relationships and perform basic data validation checks using SQL."
   ]
  },
  {
   "cell_type": "code",
   "execution_count": 6,
   "id": "42526526",
   "metadata": {},
   "outputs": [
    {
     "name": "stdout",
     "output_type": "stream",
     "text": [
      "--- Correlation Analysis & Data Validation ---\n",
      "\n",
      "--- Average Balance by Account Type ---\n",
      "Average Account Balance by Account Type:\n"
     ]
    },
    {
     "data": {
      "application/vnd.microsoft.datawrangler.viewer.v0+json": {
       "columns": [
        {
         "name": "index",
         "rawType": "int64",
         "type": "integer"
        },
        {
         "name": "account_type",
         "rawType": "object",
         "type": "string"
        },
        {
         "name": "avg_balance",
         "rawType": "float64",
         "type": "float"
        },
        {
         "name": "account_count",
         "rawType": "int64",
         "type": "integer"
        }
       ],
       "ref": "9549bdc7-c71f-4987-b3da-0c632c57c015",
       "rows": [
        [
         "0",
         "Savings",
         "10579.750404984426",
         "321"
        ],
        [
         "1",
         "Checking",
         "4822.760121457489",
         "247"
        ],
        [
         "2",
         "Credit",
         "-2104.7169491525424",
         "59"
        ]
       ],
       "shape": {
        "columns": 3,
        "rows": 3
       }
      },
      "text/html": [
       "<div>\n",
       "<style scoped>\n",
       "    .dataframe tbody tr th:only-of-type {\n",
       "        vertical-align: middle;\n",
       "    }\n",
       "\n",
       "    .dataframe tbody tr th {\n",
       "        vertical-align: top;\n",
       "    }\n",
       "\n",
       "    .dataframe thead th {\n",
       "        text-align: right;\n",
       "    }\n",
       "</style>\n",
       "<table border=\"1\" class=\"dataframe\">\n",
       "  <thead>\n",
       "    <tr style=\"text-align: right;\">\n",
       "      <th></th>\n",
       "      <th>account_type</th>\n",
       "      <th>avg_balance</th>\n",
       "      <th>account_count</th>\n",
       "    </tr>\n",
       "  </thead>\n",
       "  <tbody>\n",
       "    <tr>\n",
       "      <th>0</th>\n",
       "      <td>Savings</td>\n",
       "      <td>10579.750405</td>\n",
       "      <td>321</td>\n",
       "    </tr>\n",
       "    <tr>\n",
       "      <th>1</th>\n",
       "      <td>Checking</td>\n",
       "      <td>4822.760121</td>\n",
       "      <td>247</td>\n",
       "    </tr>\n",
       "    <tr>\n",
       "      <th>2</th>\n",
       "      <td>Credit</td>\n",
       "      <td>-2104.716949</td>\n",
       "      <td>59</td>\n",
       "    </tr>\n",
       "  </tbody>\n",
       "</table>\n",
       "</div>"
      ],
      "text/plain": [
       "  account_type   avg_balance  account_count\n",
       "0      Savings  10579.750405            321\n",
       "1     Checking   4822.760121            247\n",
       "2       Credit  -2104.716949             59"
      ]
     },
     "metadata": {},
     "output_type": "display_data"
    },
    {
     "name": "stdout",
     "output_type": "stream",
     "text": [
      "\n",
      "--- Data Validation Checks ---\n",
      "\n",
      "--- Check for Negative Transaction Amounts ---\n",
      "✅ No negative transaction amounts found.\n",
      "\n",
      "--- Check for Future-Dated Transactions ---\n",
      "✅ No future-dated transactions found.\n",
      "\n",
      "--- Transaction Count by Customer Region (via Join) ---\n",
      "Transaction Count by Customer Region:\n"
     ]
    },
    {
     "data": {
      "application/vnd.microsoft.datawrangler.viewer.v0+json": {
       "columns": [
        {
         "name": "index",
         "rawType": "int64",
         "type": "integer"
        },
        {
         "name": "region",
         "rawType": "object",
         "type": "string"
        },
        {
         "name": "transaction_count",
         "rawType": "int64",
         "type": "integer"
        }
       ],
       "ref": "f550767b-4ffe-4b43-b3b3-4221ef56c29e",
       "rows": [
        [
         "0",
         "Doha_Central",
         "1306"
        ],
        [
         "1",
         "Qatar_East",
         "1201"
        ],
        [
         "2",
         "Qatar_North",
         "847"
        ],
        [
         "3",
         "Qatar_South",
         "841"
        ],
        [
         "4",
         "Qatar_West",
         "717"
        ]
       ],
       "shape": {
        "columns": 2,
        "rows": 5
       }
      },
      "text/html": [
       "<div>\n",
       "<style scoped>\n",
       "    .dataframe tbody tr th:only-of-type {\n",
       "        vertical-align: middle;\n",
       "    }\n",
       "\n",
       "    .dataframe tbody tr th {\n",
       "        vertical-align: top;\n",
       "    }\n",
       "\n",
       "    .dataframe thead th {\n",
       "        text-align: right;\n",
       "    }\n",
       "</style>\n",
       "<table border=\"1\" class=\"dataframe\">\n",
       "  <thead>\n",
       "    <tr style=\"text-align: right;\">\n",
       "      <th></th>\n",
       "      <th>region</th>\n",
       "      <th>transaction_count</th>\n",
       "    </tr>\n",
       "  </thead>\n",
       "  <tbody>\n",
       "    <tr>\n",
       "      <th>0</th>\n",
       "      <td>Doha_Central</td>\n",
       "      <td>1306</td>\n",
       "    </tr>\n",
       "    <tr>\n",
       "      <th>1</th>\n",
       "      <td>Qatar_East</td>\n",
       "      <td>1201</td>\n",
       "    </tr>\n",
       "    <tr>\n",
       "      <th>2</th>\n",
       "      <td>Qatar_North</td>\n",
       "      <td>847</td>\n",
       "    </tr>\n",
       "    <tr>\n",
       "      <th>3</th>\n",
       "      <td>Qatar_South</td>\n",
       "      <td>841</td>\n",
       "    </tr>\n",
       "    <tr>\n",
       "      <th>4</th>\n",
       "      <td>Qatar_West</td>\n",
       "      <td>717</td>\n",
       "    </tr>\n",
       "  </tbody>\n",
       "</table>\n",
       "</div>"
      ],
      "text/plain": [
       "         region  transaction_count\n",
       "0  Doha_Central               1306\n",
       "1    Qatar_East               1201\n",
       "2   Qatar_North                847\n",
       "3   Qatar_South                841\n",
       "4    Qatar_West                717"
      ]
     },
     "metadata": {},
     "output_type": "display_data"
    }
   ],
   "source": [
    "# --- 5. Correlation Analysis & Data Validation ---\n",
    "print(\"--- Correlation Analysis & Data Validation ---\")\n",
    "\n",
    "# --- Average Balance by Account Type ---\n",
    "print(\"\\n--- Average Balance by Account Type ---\")\n",
    "sql_avg_bal_by_type = \"\"\"\n",
    "SELECT account_type, AVG(balance) AS avg_balance, COUNT(*) AS account_count\n",
    "FROM accounts\n",
    "GROUP BY account_type\n",
    "ORDER BY avg_balance DESC;\n",
    "\"\"\"\n",
    "try:\n",
    "    df_avg_bal_by_type = pd.read_sql(text(sql_avg_bal_by_type), engine)\n",
    "    print(\"Average Account Balance by Account Type:\")\n",
    "    display(df_avg_bal_by_type)\n",
    "except Exception as e:\n",
    "    logger.error(f\"Error executing avg balance by type query: {e}\")\n",
    "    print(f\"❌ Error: {e}\")\n",
    "\n",
    "# --- Data Validation: Check for obviously invalid data ---\n",
    "print(\"\\n--- Data Validation Checks ---\")\n",
    "\n",
    "# Check for negative amounts (if business rules allow only positive)\n",
    "print(\"\\n--- Check for Negative Transaction Amounts ---\")\n",
    "sql_negative_amounts = \"\"\"\n",
    "SELECT COUNT(*) AS negative_amount_count\n",
    "FROM transactions\n",
    "WHERE amount < 0;\n",
    "\"\"\"\n",
    "try:\n",
    "    df_negative_check = pd.read_sql(text(sql_negative_amounts), engine)\n",
    "    neg_count = df_negative_check.iloc[0]['negative_amount_count']\n",
    "    if neg_count > 0:\n",
    "        print(f\"⚠️  WARNING: Found {neg_count} transactions with negative amounts.\")\n",
    "    else:\n",
    "        print(\"✅ No negative transaction amounts found.\")\n",
    "except Exception as e:\n",
    "    logger.error(f\"Error executing negative amount check query: {e}\")\n",
    "    print(f\"❌ Error: {e}\")\n",
    "\n",
    "# Check for transactions in the future (data integrity)\n",
    "print(\"\\n--- Check for Future-Dated Transactions ---\")\n",
    "sql_future_txns = \"\"\"\n",
    "SELECT COUNT(*) AS future_txn_count\n",
    "FROM transactions\n",
    "WHERE transaction_date > NOW();\n",
    "\"\"\"\n",
    "try:\n",
    "    df_future_check = pd.read_sql(text(sql_future_txns), engine)\n",
    "    future_count = df_future_check.iloc[0]['future_txn_count']\n",
    "    if future_count > 0:\n",
    "        print(f\"⚠️  WARNING: Found {future_count} transactions dated in the future.\")\n",
    "    else:\n",
    "        print(\"✅ No future-dated transactions found.\")\n",
    "except Exception as e:\n",
    "    logger.error(f\"Error executing future date check query: {e}\")\n",
    "    print(f\"❌ Error: {e}\")\n",
    "\n",
    "# --- Optional: Join Analysis (e.g., Transactions linked to Regions) ---\n",
    "print(\"\\n--- Transaction Count by Customer Region (via Join) ---\")\n",
    "sql_txn_by_region = \"\"\"\n",
    "SELECT c.region, COUNT(t.transaction_id) AS transaction_count\n",
    "FROM transactions t\n",
    "JOIN accounts a ON t.account_id = a.account_id\n",
    "JOIN customers c ON a.customer_id = c.customer_id\n",
    "GROUP BY c.region\n",
    "ORDER BY transaction_count DESC;\n",
    "\"\"\"\n",
    "try:\n",
    "    df_txn_by_region = pd.read_sql(text(sql_txn_by_region), engine)\n",
    "    print(\"Transaction Count by Customer Region:\")\n",
    "    display(df_txn_by_region)\n",
    "except Exception as e:\n",
    "    logger.error(f\"Error executing transaction by region query: {e}\")\n",
    "    print(f\"❌ Error: {e}\")\n"
   ]
  }
 ],
 "metadata": {
  "kernelspec": {
   "display_name": "venv_bank",
   "language": "python",
   "name": "python3"
  },
  "language_info": {
   "codemirror_mode": {
    "name": "ipython",
    "version": 3
   },
   "file_extension": ".py",
   "mimetype": "text/x-python",
   "name": "python",
   "nbconvert_exporter": "python",
   "pygments_lexer": "ipython3",
   "version": "3.13.3"
  }
 },
 "nbformat": 4,
 "nbformat_minor": 5
}
