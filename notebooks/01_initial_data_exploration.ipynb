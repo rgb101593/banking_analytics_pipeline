{
 "cells": [
  {
   "cell_type": "markdown",
   "id": "8cd0e699",
   "metadata": {},
   "source": [
    "# Initial Data Exploration: Banking Analytics Pipeline\n",
    "\n",
    "This notebook performs an in-depth exploration of the simulated banking data loaded into the Dockerized PostgreSQL database. It connects using the project's robust SQLAlchemy connection utility, reads data into Pandas DataFrames, performs data profiling, integrity checks, descriptive statistics, and creates visualizations to understand the dataset's characteristics.\n",
    "\n",
    "**Dataset:** Customers, Accounts, Transactions\n",
    "**Environment:** Jupyter Notebook (VS Code / Jupyter Lab)\n",
    "**Connection:** `src.database.db_connection`"
   ]
  },
  {
   "cell_type": "code",
   "execution_count": null,
   "id": "c9661586",
   "metadata": {},
   "outputs": [
    {
     "name": "stderr",
     "output_type": "stream",
     "text": [
      "INFO:src.database.db_connection:Creating database engine for database=banking_analytics_db host=localhost port=5432 driver=postgresql+psycopg\n",
      "INFO:notebook_exploration:Database engine acquired.\n"
     ]
    },
    {
     "name": "stdout",
     "output_type": "stream",
     "text": [
      "✅ Libraries imported, paths configured, and base settings applied.\n",
      "✅ Connected to database 'banking_analytics_db' as user 'bank_user'.\n"
     ]
    }
   ],
   "source": [
    "# --- Project Initialization and Environment Setup ---\n",
    "import sys\n",
    "import os\n",
    "from pathlib import Path\n",
    "\n",
    "# --- Robustly Add Project Root to sys.path ---\n",
    "# Ensures modules within the 'src' directory are importable.\n",
    "# Assumes notebook runs from <project_root>/notebooks/\n",
    "project_root = Path.cwd().parent.resolve()\n",
    "project_root_str = str(project_root)\n",
    "if project_root_str not in sys.path:\n",
    "    sys.path.insert(0, project_root_str)\n",
    "\n",
    "# --- Core Imports ---\n",
    "# Standard library and third-party\n",
    "import logging\n",
    "from pathlib import Path\n",
    "# Visualization (matplotlib inline often handled by VS Code Jupyter)\n",
    "import pandas as pd\n",
    "import numpy as np\n",
    "import matplotlib.pyplot as plt\n",
    "import seaborn as sns\n",
    "from sqlalchemy import text\n",
    "\n",
    "# Project-specific import (should now work due to path setup)\n",
    "from src.database.db_connection import get_database_engine\n",
    "\n",
    "# --- Configuration and Logging ---\n",
    "logging.basicConfig(level=logging.INFO)\n",
    "logger = logging.getLogger(\"notebook_exploration\")\n",
    "\n",
    "# Define output directory relative to the notebook's location (notebooks/)\n",
    "OUTPUT_DIR = Path(\"output\")\n",
    "OUTPUT_DIR.mkdir(exist_ok=True)\n",
    "\n",
    "# Visualization styling\n",
    "plt.style.use('seaborn-v0_8-darkgrid') # Or a preferred style\n",
    "sns.set_palette(\"viridis\")\n",
    "plt.rcParams['figure.figsize'] = (10, 6)\n",
    "\n",
    "print(\"✅ Libraries imported, paths configured, and base settings applied.\")\n",
    "\n",
    "# --- Database Connection ---\n",
    "try:\n",
    "    engine = get_database_engine()\n",
    "    logger.info(\"Database engine acquired.\")\n",
    "    # Test connection and retrieve basic info\n",
    "    with engine.connect() as conn:\n",
    "        result = conn.execute(text(\"SELECT current_database(), current_user;\"))\n",
    "        db_info_row = result.fetchone()\n",
    "\n",
    "        if db_info_row is None:\n",
    "            # This should not happen for this specific query, but good practice\n",
    "            logger.warning(\"Database info query returned no rows.\")\n",
    "            db_name = \"Unknown\"\n",
    "            db_user = \"Unknown\"\n",
    "            print(\"⚠️  Connected to database (info retrieval failed).\")\n",
    "        else:\n",
    "            # Safely unpack the row\n",
    "            db_name, db_user = db_info_row\n",
    "            print(f\"✅ Connected to database '{db_name}' as user '{db_user}'.\")\n",
    "\n",
    "except Exception as e:\n",
    "    # Catch any errors during engine creation, connection, execution, or fetching\n",
    "    logger.error(f\"Database connection or info retrieval failed: {e}\", exc_info=True)\n",
    "    print(f\"❌ Error connecting to or querying database: {e}\")\n",
    "    raise # Halt execution as the database is essential\n",
    "\n"
   ]
  }
 ],
 "metadata": {
  "kernelspec": {
   "display_name": "venv_bank",
   "language": "python",
   "name": "python3"
  },
  "language_info": {
   "codemirror_mode": {
    "name": "ipython",
    "version": 3
   },
   "file_extension": ".py",
   "mimetype": "text/x-python",
   "name": "python",
   "nbconvert_exporter": "python",
   "pygments_lexer": "ipython3",
   "version": "3.13.3"
  }
 },
 "nbformat": 4,
 "nbformat_minor": 5
}
