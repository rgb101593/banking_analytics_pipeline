{
 "cells": [
  {
   "cell_type": "code",
   "execution_count": 8,
   "id": "14c00cb1",
   "metadata": {},
   "outputs": [
    {
     "name": "stderr",
     "output_type": "stream",
     "text": [
      "INFO:src.database.db_connection:Creating database engine for database=banking_analytics_db host=localhost port=5432 driver=postgresql+psycopg\n",
      "INFO:data_cleaning_notebook:Database engine acquired for data cleaning.\n"
     ]
    },
    {
     "name": "stdout",
     "output_type": "stream",
     "text": [
      "✅ Environment initialized for data cleaning.\n",
      "✅ Connected to database 'banking_analytics_db' as user 'bank_user'.\n"
     ]
    }
   ],
   "source": [
    "# --- Project Initialization and Environment Setup for Data Cleaning ---\n",
    "import sys\n",
    "import os\n",
    "from pathlib import Path\n",
    "\n",
    "# --- Add Project Root to sys.path ---\n",
    "project_root = Path.cwd().parent.resolve()\n",
    "project_root_str = str(project_root)\n",
    "if project_root_str not in sys.path:\n",
    "    sys.path.insert(0, project_root_str)\n",
    "\n",
    "# --- Core Imports ---\n",
    "import logging\n",
    "from pathlib import Path\n",
    "import pandas as pd\n",
    "import numpy as np\n",
    "import matplotlib.pyplot as plt\n",
    "import seaborn as sns\n",
    "from sqlalchemy import text\n",
    "\n",
    "# Project-specific import\n",
    "from src.database.db_connection import get_database_engine\n",
    "\n",
    "# --- Configuration and Logging ---\n",
    "logging.basicConfig(level=logging.INFO)\n",
    "logger = logging.getLogger(\"data_cleaning_notebook\")\n",
    "\n",
    "OUTPUT_DIR = Path(\"output\") # Relative to notebooks/\n",
    "OUTPUT_DIR.mkdir(exist_ok=True)\n",
    "\n",
    "# Visualization styling\n",
    "plt.style.use('seaborn-v0_8-darkgrid')\n",
    "sns.set_palette(\"viridis\")\n",
    "plt.rcParams['figure.figsize'] = (10, 6)\n",
    "\n",
    "print(\"✅ Environment initialized for data cleaning.\")\n",
    "\n",
    "# --- Database Connection ---\n",
    "try:\n",
    "    engine = get_database_engine()\n",
    "    logger.info(\"Database engine acquired for data cleaning.\")\n",
    "    with engine.connect() as conn:\n",
    "        result = conn.execute(text(\"SELECT current_database(), current_user;\"))\n",
    "        db_info_row = result.fetchone()\n",
    "        if db_info_row:\n",
    "            db_name, db_user = db_info_row\n",
    "            print(f\"✅ Connected to database '{db_name}' as user '{db_user}'.\")\n",
    "        else:\n",
    "            print(\"⚠️  Connected to database (info retrieval returned no rows).\")\n",
    "except Exception as e:\n",
    "    logger.error(f\"Database connection failed: {e}\", exc_info=True)\n",
    "    print(f\"❌ Error connecting to database: {e}\")\n",
    "    raise\n"
   ]
  },
  {
   "cell_type": "code",
   "execution_count": 9,
   "id": "2c45e7b1",
   "metadata": {},
   "outputs": [
    {
     "name": "stderr",
     "output_type": "stream",
     "text": [
      "INFO:data_cleaning_notebook:Loading data for cleaning table: customers\n",
      "INFO:data_cleaning_notebook:Loading data for cleaning table: accounts\n",
      "INFO:data_cleaning_notebook:Loading data for cleaning table: transactions\n"
     ]
    },
    {
     "name": "stdout",
     "output_type": "stream",
     "text": [
      "📥 Loading data from database for cleaning...\n",
      "   ✅ Loaded 500 rows into DataFrame 'customers'\n",
      "   ✅ Loaded 627 rows into DataFrame 'accounts'\n",
      "   ✅ Loaded 4,912 rows into DataFrame 'transactions'\n",
      "✅ All data loaded for cleaning.\n",
      "--------------------\n"
     ]
    }
   ],
   "source": [
    "# --- Load Data from PostgreSQL into Pandas DataFrames for Cleaning ---\n",
    "print(\"📥 Loading data from database for cleaning...\")\n",
    "\n",
    "dataframes_cleaning = {}\n",
    "\n",
    "try:\n",
    "    queries_cleaning = {\n",
    "        \"customers\": \"SELECT * FROM customers;\",\n",
    "        \"accounts\": \"SELECT * FROM accounts;\",\n",
    "        \"transactions\": \"SELECT * FROM transactions;\" # Load full dataset\n",
    "    }\n",
    "\n",
    "    for table_name, query in queries_cleaning.items():\n",
    "        logger.info(f\"Loading data for cleaning table: {table_name}\")\n",
    "        df = pd.read_sql(query, engine)\n",
    "        # Ensure datetime columns are parsed correctly if not already\n",
    "        if table_name == 'customers' and 'account_open_date' in df.columns:\n",
    "             df['account_open_date'] = pd.to_datetime(df['account_open_date'])\n",
    "        if table_name == 'transactions' and 'transaction_date' in df.columns:\n",
    "             df['transaction_date'] = pd.to_datetime(df['transaction_date'])\n",
    "        dataframes_cleaning[table_name] = df\n",
    "        print(f\"   ✅ Loaded {len(df):,} rows into DataFrame '{table_name}'\")\n",
    "\n",
    "    # Assign DataFrames to convenient variables\n",
    "    df_customers_clean = dataframes_cleaning['customers']\n",
    "    df_accounts_clean = dataframes_cleaning['accounts']\n",
    "    df_transactions_clean = dataframes_cleaning['transactions']\n",
    "\n",
    "    print(\"✅ All data loaded for cleaning.\")\n",
    "    print(\"-\" * 20)\n",
    "\n",
    "except Exception as e:\n",
    "    logger.error(f\"Error loading data for cleaning: {e}\", exc_info=True)\n",
    "    print(f\"❌ Error loading  {e}\")\n",
    "    raise\n"
   ]
  },
  {
   "cell_type": "markdown",
   "id": "fd02a6a7",
   "metadata": {},
   "source": [
    "# Data Cleaning & Preparation\n",
    "\n",
    "This notebook focuses on cleaning the data loaded from the database using Python and Pandas. This includes handling missing values, treating outliers, ensuring data type consistency, and performing any necessary standardization.\n",
    "\n",
    "Based on Phase 2 analysis, major integrity issues in key columns were not found. This notebook will demonstrate common cleaning techniques and apply them where relevant or for practice."
   ]
  },
  {
   "cell_type": "markdown",
   "id": "56cfa526",
   "metadata": {},
   "source": [
    "## 1. Initial Data Review & Integrity Checks\n",
    "\n",
    "Re-verify basic data integrity on the loaded DataFrames before applying transformations."
   ]
  },
  {
   "cell_type": "code",
   "execution_count": 10,
   "id": "58cd5e73",
   "metadata": {},
   "outputs": [
    {
     "name": "stdout",
     "output_type": "stream",
     "text": [
      "--- Re-verifying Data Integrity ---\n",
      "\n",
      "--- Checking DataFrame: Customers (for cleaning) ---\n",
      "Shape: (500, 4)\n",
      "✅ No NULL values found in any column.\n",
      "✅ No duplicate rows found.\n",
      "\n",
      "Data Types:\n",
      "customer_id                  object\n",
      "customer_name                object\n",
      "region                       object\n",
      "account_open_date    datetime64[ns]\n",
      "dtype: object\n",
      "\n",
      "--- Checking DataFrame: Accounts (for cleaning) ---\n",
      "Shape: (627, 4)\n",
      "✅ No NULL values found in any column.\n",
      "✅ No duplicate rows found.\n",
      "\n",
      "Data Types:\n",
      "account_id       object\n",
      "customer_id      object\n",
      "account_type     object\n",
      "balance         float64\n",
      "dtype: object\n",
      "\n",
      "--- Checking DataFrame: Transactions (for cleaning) ---\n",
      "Shape: (4912, 7)\n",
      "✅ No NULL values found in any column.\n",
      "✅ No duplicate rows found.\n",
      "\n",
      "Data Types:\n",
      "transaction_id                    object\n",
      "account_id                        object\n",
      "transaction_date          datetime64[ns]\n",
      "transaction_type                  object\n",
      "amount                           float64\n",
      "merchant_category_code            object\n",
      "description                       object\n",
      "dtype: object\n"
     ]
    }
   ],
   "source": [
    "# --- 1. Initial Data Review & Integrity Checks ---\n",
    "print(\"--- Re-verifying Data Integrity ---\")\n",
    "\n",
    "# Function to check for common issues\n",
    "def check_dataframe_integrity(df_name, df):\n",
    "    print(f\"\\n--- Checking DataFrame: {df_name} ---\")\n",
    "    print(f\"Shape: {df.shape}\")\n",
    "    # Check for NULLs in all columns\n",
    "    null_summary = df.isnull().sum()\n",
    "    if null_summary.any():\n",
    "        print(\"NULL values found:\")\n",
    "        print(null_summary[null_summary > 0])\n",
    "    else:\n",
    "        print(\"✅ No NULL values found in any column.\")\n",
    "\n",
    "    # Check for duplicates in the entire DataFrame (less common, but possible)\n",
    "    dup_rows = df.duplicated().sum()\n",
    "    if dup_rows > 0:\n",
    "        print(f\"⚠️  WARNING: Found {dup_rows:,} duplicate rows.\")\n",
    "    else:\n",
    "        print(\"✅ No duplicate rows found.\")\n",
    "\n",
    "    # Check data types\n",
    "    print(\"\\nData Types:\")\n",
    "    print(df.dtypes)\n",
    "\n",
    "# Check each DataFrame\n",
    "check_dataframe_integrity(\"Customers (for cleaning)\", df_customers_clean)\n",
    "check_dataframe_integrity(\"Accounts (for cleaning)\", df_accounts_clean)\n",
    "check_dataframe_integrity(\"Transactions (for cleaning)\", df_transactions_clean)\n"
   ]
  },
  {
   "cell_type": "markdown",
   "id": "fd998c2a",
   "metadata": {},
   "source": [
    "## 2. Outlier Treatment\n",
    "\n",
    "Apply techniques to handle outliers identified in Phase 2 (e.g., `transactions.amount`). We'll demonstrate capping/flooring based on IQR."
   ]
  },
  {
   "cell_type": "code",
   "execution_count": 11,
   "id": "a8fcd419",
   "metadata": {},
   "outputs": [
    {
     "name": "stdout",
     "output_type": "stream",
     "text": [
      "--- Outlier Treatment ---\n",
      "\n",
      "--- Treating Outliers in 'amount' ---\n",
      "Original range: 3.99 to 16211.03\n",
      "IQR: 537.11\n",
      "Lower Bound: -697.55, Upper Bound: 1450.88\n",
      "Number of outliers detected: 408\n",
      "New range after capping/flooring: 3.99 to 1450.88\n"
     ]
    },
    {
     "data": {
      "image/png": "[encoded data removed]",
      "text/plain": [
       "<Figure size 1500x500 with 2 Axes>"
      ]
     },
     "metadata": {},
     "output_type": "display_data"
    },
    {
     "name": "stdout",
     "output_type": "stream",
     "text": [
      "💡 Outlier treatment (capping/flooring) demonstrated on a copy of the data.\n",
      "   The main DataFrame was not modified. Apply to the main DF if needed.\n"
     ]
    }
   ],
   "source": [
    "# --- 2. Outlier Treatment ---\n",
    "print(\"--- Outlier Treatment ---\")\n",
    "\n",
    "# --- Example: Cap/Floor Transaction Amounts using IQR ---\n",
    "column_to_treat = 'amount'\n",
    "df_txn_for_outliers = df_transactions_clean.copy() # Work on a copy\n",
    "\n",
    "print(f\"\\n--- Treating Outliers in '{column_to_treat}' ---\")\n",
    "print(f\"Original range: {df_txn_for_outliers[column_to_treat].min():.2f} to {df_txn_for_outliers[column_to_treat].max():.2f}\")\n",
    "\n",
    "# Calculate IQR\n",
    "Q1 = df_txn_for_outliers[column_to_treat].quantile(0.25)\n",
    "Q3 = df_txn_for_outliers[column_to_treat].quantile(0.75)\n",
    "IQR = Q3 - Q1\n",
    "lower_bound = Q1 - 1.5 * IQR\n",
    "upper_bound = Q3 + 1.5 * IQR\n",
    "\n",
    "print(f\"IQR: {IQR:.2f}\")\n",
    "print(f\"Lower Bound: {lower_bound:.2f}, Upper Bound: {upper_bound:.2f}\")\n",
    "\n",
    "# Count outliers\n",
    "outliers_condition = (df_txn_for_outliers[column_to_treat] < lower_bound) | (df_txn_for_outliers[column_to_treat] > upper_bound)\n",
    "num_outliers = outliers_condition.sum()\n",
    "print(f\"Number of outliers detected: {num_outliers:,}\")\n",
    "\n",
    "# Apply Capping/Flooring\n",
    "df_txn_for_outliers[f'{column_to_treat}_capped'] = df_txn_for_outliers[column_to_treat].clip(lower=lower_bound, upper=upper_bound)\n",
    "\n",
    "print(f\"New range after capping/flooring: {df_txn_for_outliers[f'{column_to_treat}_capped'].min():.2f} to {df_txn_for_outliers[f'{column_to_treat}_capped'].max():.2f}\")\n",
    "\n",
    "# Optional: Visualize the effect (before/after)\n",
    "fig, axes = plt.subplots(1, 2, figsize=(15, 5))\n",
    "fig.suptitle(f'Distribution of Transaction Amount: Original vs Capped')\n",
    "\n",
    "axes[0].hist(df_txn_for_outliers[column_to_treat], bins=100, alpha=0.7, color='red')\n",
    "axes[0].set_title('Original Distribution')\n",
    "axes[0].set_xlabel('Amount')\n",
    "axes[0].set_ylabel('Frequency')\n",
    "# axes[0].set_yscale('log') # Use log scale if highly skewed\n",
    "\n",
    "axes[1].hist(df_txn_for_outliers[f'{column_to_treat}_capped'], bins=100, alpha=0.7, color='green')\n",
    "axes[1].set_title('Distribution After Capping/Flooring')\n",
    "axes[1].set_xlabel('Capped Amount')\n",
    "axes[1].set_ylabel('Frequency')\n",
    "\n",
    "plt.tight_layout()\n",
    "plt.show()\n",
    "\n",
    "# Update the main DataFrame if the treatment is accepted\n",
    "# For now, we just demonstrated the technique.\n",
    "# df_transactions_clean['amount'] = df_txn_for_outliers['amount_capped']\n",
    "print(\"💡 Outlier treatment (capping/flooring) demonstrated on a copy of the data.\")\n",
    "print(\"   The main DataFrame was not modified. Apply to the main DF if needed.\")\n"
   ]
  },
  {
   "cell_type": "markdown",
   "id": "a155d42e",
   "metadata": {},
   "source": [
    "## 3. Missing Value Treatment\n",
    "\n",
    "Although minimal from Phase 2, demonstrate how missing values would be handled. We'll check for and potentially impute missing data in a non-key column like `description`."
   ]
  },
  {
   "cell_type": "code",
   "execution_count": 12,
   "id": "aa38d525",
   "metadata": {},
   "outputs": [
    {
     "name": "stdout",
     "output_type": "stream",
     "text": [
      "--- Missing Value Treatment ---\n",
      "\n",
      "--- Checking Missing Values in 'description' ---\n",
      "Number of missing descriptions: 0\n",
      "✅ No missing values found in 'description'. No treatment needed.\n",
      "\n",
      "--- Re-checking for NULLs after treatment ---\n",
      "\n",
      "--- Checking DataFrame: Transactions (after treatment check) ---\n",
      "Shape: (4912, 7)\n",
      "✅ No NULL values found in any column.\n",
      "✅ No duplicate rows found.\n",
      "\n",
      "Data Types:\n",
      "transaction_id                    object\n",
      "account_id                        object\n",
      "transaction_date          datetime64[ns]\n",
      "transaction_type                  object\n",
      "amount                           float64\n",
      "merchant_category_code            object\n",
      "description                       object\n",
      "dtype: object\n"
     ]
    }
   ],
   "source": [
    "# --- 3. Missing Value Treatment ---\n",
    "print(\"--- Missing Value Treatment ---\")\n",
    "\n",
    "# --- Example: Handle missing descriptions ---\n",
    "column_to_check = 'description'\n",
    "if column_to_check in df_transactions_clean.columns:\n",
    "    missing_desc_count = df_transactions_clean[column_to_check].isnull().sum()\n",
    "    print(f\"\\n--- Checking Missing Values in '{column_to_check}' ---\")\n",
    "    print(f\"Number of missing descriptions: {missing_desc_count:,}\")\n",
    "\n",
    "    if missing_desc_count > 0:\n",
    "        print(\"Applying treatment for missing descriptions...\")\n",
    "        # Option 1: Impute with a placeholder\n",
    "        # df_transactions_clean[column_to_check].fillna(\"No Description Provided\", inplace=True)\n",
    "        # print(\"   ✅ Missing descriptions filled with 'No Description Provided'.\")\n",
    "\n",
    "        # Option 2: Impute with mode (most frequent value)\n",
    "        mode_desc = df_transactions_clean[column_to_check].mode()\n",
    "        if not mode_desc.empty:\n",
    "        # df_transactions_clean[column_to_check].fillna(mode_desc.iloc[0], inplace=True)\n",
    "        # print(f\"   ✅ Missing descriptions filled with mode: '{mode_desc.iloc[0]}'.\")\n",
    "\n",
    "        # Option 3: Forward-fill or Backward-fill (if data is ordered meaningfully)\n",
    "        # Not typically suitable for transaction data descriptions.\n",
    "\n",
    "        # Option 4: Drop rows (if missing data is not significant and dropping is acceptable)\n",
    "        # initial_count = len(df_transactions_clean)\n",
    "        # df_transactions_clean.dropna(subset=[column_to_check], inplace=True)\n",
    "        # final_count = len(df_transactions_clean)\n",
    "        # print(f\"   ✅ Dropped {initial_count - final_count:,} rows with missing descriptions.\")\n",
    "\n",
    "        # For demonstration, let's just show the count and state no action is taken\n",
    "        # as missing descriptions might be acceptable depending on use case.\n",
    "          print(\"   ℹ️  No automatic treatment applied. Review and choose strategy based on context.\")\n",
    "    else:\n",
    "        print(\"✅ No missing values found in 'description'. No treatment needed.\")\n",
    "else:\n",
    "    print(f\"⚠️  Column '{column_to_check}' not found in transactions DataFrame.\")\n",
    "\n",
    "# Check overall NULLs again after any potential treatment\n",
    "print(\"\\n--- Re-checking for NULLs after treatment ---\")\n",
    "check_dataframe_integrity(\"Transactions (after treatment check)\", df_transactions_clean)\n"
   ]
  },
  {
   "cell_type": "markdown",
   "id": "bc62d200",
   "metadata": {},
   "source": [
    "## 4. Data Type Consistency & Standardization\n",
    "\n",
    "Ensure columns have the correct and efficient data types. Standardize text data if necessary."
   ]
  },
  {
   "cell_type": "code",
   "execution_count": 13,
   "id": "043b42fa",
   "metadata": {},
   "outputs": [
    {
     "name": "stdout",
     "output_type": "stream",
     "text": [
      "--- Data Type Consistency & Standardization ---\n",
      "✅ Date columns confirmed as datetime64[ns] (assumed from loading step).\n",
      "\n",
      "--- Optimizing String Columns (Category Dtype) ---\n",
      "Checking 'accounts' DataFrame:\n",
      "  Column 'account_id': 627 unique / 627 total (ratio: 1.0000)\n",
      "  Column 'customer_id': 500 unique / 627 total (ratio: 0.7974)\n",
      "  Column 'account_type': 3 unique / 627 total (ratio: 0.0048)\n",
      "    -> Could convert 'account_type' to 'category' dtype for memory efficiency.\n",
      "\n",
      "Checking 'transactions' DataFrame:\n",
      "  Column 'transaction_id': 4,912 unique / 4,912 total (ratio: 1.0000)\n",
      "  Column 'account_id': 42 unique / 4,912 total (ratio: 0.0086)\n",
      "    -> Could convert 'account_id' to 'category' dtype for memory efficiency.\n",
      "  Column 'transaction_type': 5 unique / 4,912 total (ratio: 0.0010)\n",
      "    -> Could convert 'transaction_type' to 'category' dtype for memory efficiency.\n",
      "  Column 'merchant_category_code': 9 unique / 4,912 total (ratio: 0.0018)\n",
      "    -> Could convert 'merchant_category_code' to 'category' dtype for memory efficiency.\n",
      "  Column 'description': 10 unique / 4,912 total (ratio: 0.0020)\n",
      "    -> Could convert 'description' to 'category' dtype for memory efficiency.\n",
      "\n",
      "--- Standardizing Text Data ---\n",
      "✅ Text standardization (strip whitespace) applied to 'description'.\n",
      "Sample before standardization:\n"
     ]
    },
    {
     "data": {
      "application/vnd.microsoft.datawrangler.viewer.v0+json": {
       "columns": [
        {
         "name": "index",
         "rawType": "int64",
         "type": "integer"
        },
        {
         "name": "description",
         "rawType": "object",
         "type": "string"
        }
       ],
       "ref": "23f9b83d-7c29-4718-a69f-0c6968327b25",
       "rows": [
        [
         "0",
         "Deposit at Unknown"
        ],
        [
         "1",
         "Transfer Out at Transfer"
        ],
        [
         "2",
         "Deposit at Unknown"
        ]
       ],
       "shape": {
        "columns": 1,
        "rows": 3
       }
      },
      "text/html": [
       "<div>\n",
       "<style scoped>\n",
       "    .dataframe tbody tr th:only-of-type {\n",
       "        vertical-align: middle;\n",
       "    }\n",
       "\n",
       "    .dataframe tbody tr th {\n",
       "        vertical-align: top;\n",
       "    }\n",
       "\n",
       "    .dataframe thead th {\n",
       "        text-align: right;\n",
       "    }\n",
       "</style>\n",
       "<table border=\"1\" class=\"dataframe\">\n",
       "  <thead>\n",
       "    <tr style=\"text-align: right;\">\n",
       "      <th></th>\n",
       "      <th>description</th>\n",
       "    </tr>\n",
       "  </thead>\n",
       "  <tbody>\n",
       "    <tr>\n",
       "      <th>0</th>\n",
       "      <td>Deposit at Unknown</td>\n",
       "    </tr>\n",
       "    <tr>\n",
       "      <th>1</th>\n",
       "      <td>Transfer Out at Transfer</td>\n",
       "    </tr>\n",
       "    <tr>\n",
       "      <th>2</th>\n",
       "      <td>Deposit at Unknown</td>\n",
       "    </tr>\n",
       "  </tbody>\n",
       "</table>\n",
       "</div>"
      ],
      "text/plain": [
       "                description\n",
       "0        Deposit at Unknown\n",
       "1  Transfer Out at Transfer\n",
       "2        Deposit at Unknown"
      ]
     },
     "metadata": {},
     "output_type": "display_data"
    },
    {
     "name": "stdout",
     "output_type": "stream",
     "text": [
      "Sample after standardization:\n"
     ]
    },
    {
     "data": {
      "application/vnd.microsoft.datawrangler.viewer.v0+json": {
       "columns": [
        {
         "name": "index",
         "rawType": "int64",
         "type": "integer"
        },
        {
         "name": "description",
         "rawType": "object",
         "type": "string"
        }
       ],
       "ref": "07656f3b-ffb8-49cd-9dc0-e2a566ab3c87",
       "rows": [
        [
         "0",
         "Deposit at Unknown"
        ],
        [
         "1",
         "Transfer Out at Transfer"
        ],
        [
         "2",
         "Deposit at Unknown"
        ]
       ],
       "shape": {
        "columns": 1,
        "rows": 3
       }
      },
      "text/html": [
       "<div>\n",
       "<style scoped>\n",
       "    .dataframe tbody tr th:only-of-type {\n",
       "        vertical-align: middle;\n",
       "    }\n",
       "\n",
       "    .dataframe tbody tr th {\n",
       "        vertical-align: top;\n",
       "    }\n",
       "\n",
       "    .dataframe thead th {\n",
       "        text-align: right;\n",
       "    }\n",
       "</style>\n",
       "<table border=\"1\" class=\"dataframe\">\n",
       "  <thead>\n",
       "    <tr style=\"text-align: right;\">\n",
       "      <th></th>\n",
       "      <th>description</th>\n",
       "    </tr>\n",
       "  </thead>\n",
       "  <tbody>\n",
       "    <tr>\n",
       "      <th>0</th>\n",
       "      <td>Deposit at Unknown</td>\n",
       "    </tr>\n",
       "    <tr>\n",
       "      <th>1</th>\n",
       "      <td>Transfer Out at Transfer</td>\n",
       "    </tr>\n",
       "    <tr>\n",
       "      <th>2</th>\n",
       "      <td>Deposit at Unknown</td>\n",
       "    </tr>\n",
       "  </tbody>\n",
       "</table>\n",
       "</div>"
      ],
      "text/plain": [
       "                description\n",
       "0        Deposit at Unknown\n",
       "1  Transfer Out at Transfer\n",
       "2        Deposit at Unknown"
      ]
     },
     "metadata": {},
     "output_type": "display_data"
    },
    {
     "name": "stdout",
     "output_type": "stream",
     "text": [
      "\n",
      "--- Final Data Types Check ---\n",
      "Accounts dtypes:\n",
      "account_id       object\n",
      "customer_id      object\n",
      "account_type     object\n",
      "balance         float64\n",
      "dtype: object\n",
      "\n",
      "Transactions dtypes:\n",
      "transaction_id                    object\n",
      "account_id                        object\n",
      "transaction_date          datetime64[ns]\n",
      "transaction_type                  object\n",
      "amount                           float64\n",
      "merchant_category_code            object\n",
      "description                       object\n",
      "dtype: object\n"
     ]
    }
   ],
   "source": [
    "# --- 4. Data Type Consistency & Standardization ---\n",
    "print(\"--- Data Type Consistency & Standardization ---\")\n",
    "\n",
    "# --- Ensure Date Columns are datetime ---\n",
    "# This was done during loading, but good to confirm/redo if needed.\n",
    "# df_customers_clean['account_open_date'] = pd.to_datetime(df_customers_clean['account_open_date'])\n",
    "# df_transactions_clean['transaction_date'] = pd.to_datetime(df_transactions_clean['transaction_date'])\n",
    "print(\"✅ Date columns confirmed as datetime64[ns] (assumed from loading step).\")\n",
    "\n",
    "# --- Optimize String Columns to 'category' dtype (if beneficial) ---\n",
    "# This can save memory for columns with low cardinality relative to row count.\n",
    "print(\"\\n--- Optimizing String Columns (Category Dtype) ---\")\n",
    "\n",
    "# Check Accounts\n",
    "print(\"Checking 'accounts' DataFrame:\")\n",
    "for col in df_accounts_clean.select_dtypes(include=['object']).columns:\n",
    "    unique_count = df_accounts_clean[col].nunique()\n",
    "    total_count = len(df_accounts_clean)\n",
    "    ratio = unique_count / total_count\n",
    "    print(f\"  Column '{col}': {unique_count:,} unique / {total_count:,} total (ratio: {ratio:.4f})\")\n",
    "    # Heuristic: If ratio is low (e.g., < 0.5), consider category\n",
    "    if ratio < 0.5 and total_count > 100: # Avoid for tiny datasets\n",
    "        # df_accounts_clean[col] = df_accounts_clean[col].astype('category')\n",
    "        # print(f\"    -> Considered converting '{col}' to 'category' dtype.\")\n",
    "        print(f\"    -> Could convert '{col}' to 'category' dtype for memory efficiency.\")\n",
    "\n",
    "# Check Transactions\n",
    "print(\"\\nChecking 'transactions' DataFrame:\")\n",
    "for col in df_transactions_clean.select_dtypes(include=['object']).columns:\n",
    "    unique_count = df_transactions_clean[col].nunique()\n",
    "    total_count = len(df_transactions_clean)\n",
    "    ratio = unique_count / total_count\n",
    "    print(f\"  Column '{col}': {unique_count:,} unique / {total_count:,} total (ratio: {ratio:.4f})\")\n",
    "    if ratio < 0.1 and total_count > 1000: # Stricter condition for transactions\n",
    "         # df_transactions_clean[col] = df_transactions_clean[col].astype('category')\n",
    "         # print(f\"    -> Considered converting '{col}' to 'category' dtype.\")\n",
    "         print(f\"    -> Could convert '{col}' to 'category' dtype for memory efficiency.\")\n",
    "\n",
    "# --- Standardize Text Data (Example) ---\n",
    "print(\"\\n--- Standardizing Text Data ---\")\n",
    "# Example: Trim whitespace and ensure consistent casing for 'description'\n",
    "if 'description' in df_transactions_clean.columns:\n",
    "    # Store original sample for comparison\n",
    "    original_sample = df_transactions_clean['description'].head(3).copy()\n",
    "    # Apply standardization\n",
    "    df_transactions_clean['description'] = df_transactions_clean['description'].str.strip() # Remove leading/trailing whitespace\n",
    "    # df_transactions_clean['description'] = df_transactions_clean['description'].str.upper() # Example: Make uppercase\n",
    "    # df_transactions_clean['description'] = df_transactions_clean['description'].str.title() # Example: Title Case\n",
    "    print(\"✅ Text standardization (strip whitespace) applied to 'description'.\")\n",
    "    # Show effect\n",
    "    print(\"Sample before standardization:\")\n",
    "    display(original_sample.to_frame())\n",
    "    print(\"Sample after standardization:\")\n",
    "    display(df_transactions_clean['description'].head(3).to_frame())\n",
    "else:\n",
    "    print(\"⚠️  'description' column not found for text standardization.\")\n",
    "\n",
    "# Final check of dtypes\n",
    "print(\"\\n--- Final Data Types Check ---\")\n",
    "print(\"Accounts dtypes:\")\n",
    "print(df_accounts_clean.dtypes)\n",
    "print(\"\\nTransactions dtypes:\")\n",
    "print(df_transactions_clean.dtypes)\n"
   ]
  },
  {
   "cell_type": "markdown",
   "id": "46e06f76",
   "metadata": {},
   "source": [
    "**Cell 12: Markdown (Cleaning Summary)**\n",
    "\n",
    "```markdown\n",
    "## Summary of Data Cleaning Steps\n",
    "\n",
    "This notebook demonstrated several key data cleaning and preparation techniques using Python/Pandas:\n",
    "\n",
    "1.  **Integrity Re-verification:** Confirmed no major NULL or duplicate issues in key columns.\n",
    "2.  **Outlier Treatment:** Showed how to identify and treat outliers (e.g., in `transactions.amount`) using the IQR method (capping/flooring). The technique was applied to a copy for demonstration.\n",
    "3.  **Missing Value Treatment:** Checked for missing values (e.g., in `description`) and outlined common treatment strategies (imputation, dropping) without applying them automatically.\n",
    "4.  **Data Type Optimization:** Reviewed opportunities to convert string columns to `category` dtype for memory efficiency.\n",
    "5.  **Text Standardization:** Applied whitespace trimming to the `description` field.\n",
    "\n",
    "These steps ensure the data is in a consistent, clean format, ready for the next phase of feature engineering.\n",
    "```"
   ]
  }
 ],
 "metadata": {
  "kernelspec": {
   "display_name": "venv_bank",
   "language": "python",
   "name": "python3"
  },
  "language_info": {
   "codemirror_mode": {
    "name": "ipython",
    "version": 3
   },
   "file_extension": ".py",
   "mimetype": "text/x-python",
   "name": "python",
   "nbconvert_exporter": "python",
   "pygments_lexer": "ipython3",
   "version": "3.13.3"
  }
 },
 "nbformat": 4,
 "nbformat_minor": 5
}
